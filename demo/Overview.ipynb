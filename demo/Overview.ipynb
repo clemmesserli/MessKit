{
 "cells": [
  {
   "cell_type": "markdown",
   "metadata": {},
   "source": [
    "# RTPSUG PowerShell Saturday : Securing Data with PowerShell: Encoding, Encryption, and More\n",
    "## Common Terms\n",
    "### Encoding\n",
    "**Purpose**: To transform data into a different format using a publicly available scheme, primarily for data transmission and storage.\n",
    "- **How it works**: Converts data into a different format that can be easily reversed using the same algorithm. It does not require a key.\n",
    "- **Use case**: Ensuring data is in a suitable format for various systems, such as converting binary data to text for email transmission.\n",
    "- **Example**: Base64, ASCII, URL encoding.\n",
    "### Encryption\n",
    "**Purpose**: To protect data by transforming it into a format that can only be read by someone with the correct decryption key.\n",
    "- **How it works**: Uses algorithms and keys to convert plaintext into ciphertext. Only those with the correct key can decrypt the data back to its original form.\n",
    "- **Use case**: Securing sensitive information such as passwords, personal data, and financial transactions.\n",
    "- **Example**: AES (Advanced Encryption Standard), RSA (Rivest-Shamir-Adleman).\n",
    "### Obfuscation\n",
    "**Purpose**: To make data or code harder to understand, often to protect intellectual property or hinder reverse engineering.\n",
    "- **How it works**: Alters the appearance of code or data without changing its functionality, making it more difficult to interpret.\n",
    "- **Use case**: Protecting software code from being easily copied or tampered with.\n",
    "- **Example**: Minifying JavaScript code, renaming variables to meaningless names.\n",
    "### Steganography\n",
    "**Purpose**: To hide data within other non-secret data, making it invisible to the casual observer.\n",
    "- **How it works**: Embeds hidden data within a file, image, or video in such a way that it is not noticeable.\n",
    "- **Use case**: Covert communication, digital watermarking.\n",
    "- **Example**: Hiding a text message within an image file.\n",
    "### Tokenization\n",
    "**Purpose**: To replace sensitive data with non-sensitive equivalents (tokens) that can be used in place of the original data.\n",
    "- **How it works**: Maps sensitive data to tokens using a tokenization system. The tokens can be reversed back to the original data only by the tokenization system.\n",
    "- **Use case**: Protecting credit card information, personal identification numbers (PINs).\n",
    "- **Example**: Payment card tokenization.\n",
    "### Hashing\n",
    "**Purpose**: To generate a fixed-size string or number from input data of any size, primarily for data integrity and authentication.\n",
    "- **How it works**: Uses a hash function to convert data into a hash value. It is a one-way process, meaning you cannot reverse the hash to get the original data.\n",
    "- **Use case**: Verifying data integrity, storing passwords securely.\n",
    "- **Example**: SHA-256, MD5.\n",
    "### Cryptography\n",
    "**Purpose**: To secure communication and protect data from unauthorized access by transforming it into an unreadable format.\n",
    "- **How it works**: Uses mathematical algorithms and keys to encrypt (encode) and decrypt (decode) data. There are two main types: symmetric-key cryptography (same key for encryption and decryption) and asymmetric-key cryptography (different keys for encryption and decryption).\n",
    "- **Use case**: Protecting sensitive information such as financial transactions, personal data, and secure communications.\n",
    "- **Example**: AES (Advanced Encryption Standard), RSA (Rivest-Shamir-Adleman), ECC (Elliptic Curve Cryptography).\n",
    "\n",
    "### Quantum Cryptography\n",
    "**Purpose**: To enhance data security by leveraging the principles of quantum mechanics, making it theoretically unbreakable.\n",
    "- **How it works**: Uses quantum key distribution (QKD) to create and share encryption keys securely. Any attempt to eavesdrop on the key exchange will disturb the quantum states, alerting the communicating parties.\n",
    "- **Use case**: Future-proofing data security against the potential threat of quantum computers, which could break traditional cryptographic methods.\n",
    "- **Example**: Quantum Key Distribution (QKD) systems like BB84 protocol."
   ]
  },
  {
   "cell_type": "markdown",
   "metadata": {},
   "source": []
  }
 ],
 "metadata": {
  "kernelspec": {
   "display_name": ".NET (C#)",
   "language": "C#",
   "name": ".net-csharp"
  },
  "polyglot_notebook": {
   "kernelInfo": {
    "defaultKernelName": "csharp",
    "items": [
     {
      "aliases": [],
      "name": "csharp"
     }
    ]
   }
  }
 },
 "nbformat": 4,
 "nbformat_minor": 2
}
